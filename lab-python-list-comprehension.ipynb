{
 "cells": [
  {
   "cell_type": "markdown",
   "id": "25d7736c-ba17-4aff-b6bb-66eba20fbf4e",
   "metadata": {},
   "source": [
    "# Lab | List, Dict and Set Comprehension"
   ]
  },
  {
   "cell_type": "markdown",
   "id": "7dd3cbde-675a-4b81-92c3-f728846dbe06",
   "metadata": {},
   "source": [
    "## Exercise: Managing Customer Orders Optimized with Comprehension"
   ]
  },
  {
   "cell_type": "markdown",
   "id": "5d500160-2fb7-4777-b5e4-09d45ebaf328",
   "metadata": {},
   "source": [
    "In the previous exercise, you developed a program to manage customer orders and inventory. Now, let's take it a step further and incorporate comprehension into your code.\n",
    "\n",
    "Follow the steps below to complete the exercise:\n",
    "\n",
    "1. Review your code from the previous exercise and identify areas where you can apply comprehension to simplify and streamline your code. \n",
    "\n",
    "    - *Hint: Apply it to initialize inventory, updating the inventory and printing the updated inventory.*\n",
    "    \n",
    "    - For example, in initializing the inventory, we could have:\n",
    "    \n",
    "        ```python\n",
    "        def initialize_inventory(products):\n",
    "            inventory = {product: int(input(f\"Enter the quantity of {product}s available: \")) for product in products}\n",
    "            return inventory\n",
    "\n",
    "        ```\n",
    "<br>\n",
    "    \n",
    "    \n",
    "2. Modify the function get_customer_orders so it prompts the user to enter the number of customer orders and gathers the product names using a loop and user input. Use comprehension.\n",
    "\n",
    "3. Add a new function to calculate the total price of the customer order. For each product in customer_orders, prompt the user to enter the price of that product. Use comprehension to calculate the total price. Note: assume that the user can only have 1 unit of each product.\n",
    "\n",
    "4. Modify the update_inventory function to remove the product from the inventory if its quantity becomes zero after fulfilling the customer orders. Use comprehension to filter out the products with a quantity of zero from the inventory.\n",
    "\n",
    "5. Print the total price of the customer order.\n",
    "\n",
    "Your code should produce output similar to the following:\n",
    "\n",
    "```python\n",
    "Enter the quantity of t-shirts available:  5\n",
    "Enter the quantity of mugs available:  4\n",
    "Enter the quantity of hats available:  3\n",
    "Enter the quantity of books available:  2\n",
    "Enter the quantity of keychains available:  1\n",
    "Enter the number of customer orders:  2\n",
    "Enter the name of a product that a customer wants to order:  hat\n",
    "Enter the name of a product that a customer wants to order:  keychain\n",
    "\n",
    "Order Statistics:\n",
    "Total Products Ordered: 2\n",
    "Percentage of Unique Products Ordered: 40.0\n",
    "\n",
    "Updated Inventory:\n",
    "t-shirt: 5\n",
    "mug: 4\n",
    "hat: 2\n",
    "book: 2\n",
    "Enter the price of keychain:  5\n",
    "Enter the price of hat:  10\n",
    "Total Price: 15.0\n",
    "\n",
    "```\n"
   ]
  },
  {
   "cell_type": "code",
   "execution_count": null,
   "id": "2dc25feb",
   "metadata": {},
   "outputs": [],
   "source": [
    "#Create inventory from input\n",
    "\n",
    "def initialize_inventory(products):\n",
    "    inventory = {}\n",
    "\n",
    "    inventory = {product:int(input(f\"Enter available quantity for {product}: \")) for product in products}\n",
    "    \n",
    "    return inventory #outside the loop so that the function collects quantities for all products before returning inventory dictionary.\n",
    "\n",
    "#Products - outside the function, passed as argument\n",
    "products = [\"t-shirt\", \"mug\", \"hat\", \"book\", \"keychain\"]\n",
    "inventory = initialize_inventory(products) #storing returned inventory in a variable "
   ]
  },
  {
   "cell_type": "code",
   "execution_count": null,
   "id": "ee87775f",
   "metadata": {},
   "outputs": [],
   "source": [
    "#Get number of orders and order items from input\n",
    "\n",
    "def get_customer_orders ():\n",
    "    customer_orders = set()\n",
    "    max_inputs = int(input(\"Please enter a number of orders: \"))\n",
    "    count = 0\n",
    "\n",
    "   # for i in range (max_inputs):\n",
    "       # if count < max_inputs:\n",
    "          #  product = input(\"Please enter a product \")\n",
    "           # customer_orders.add(product)\n",
    "           # count += 1\n",
    "\n",
    "    customer_orders = {input(\"Enter a product: \") for i in range (max_inputs)}\n",
    "    print(customer_orders)\n",
    "        \n",
    "    return customer_orders\n",
    "\n",
    "\n",
    "customer_orders = get_customer_orders() "
   ]
  },
  {
   "cell_type": "code",
   "execution_count": null,
   "id": "6b0929a9",
   "metadata": {},
   "outputs": [],
   "source": [
    "#Calculate Total Products Ordered and Percentage\n",
    "\n",
    "def calculate_order_statistics(customer_orders, products):\n",
    "    total_products = len(customer_orders)\n",
    "    sum_inventory = sum(inventory.values()) #Calculating initial inventory\n",
    "    percentage = int(total_products/sum_inventory *100) #Calculating percentage \n",
    "    order_status = (total_products, percentage) #Order status tuple\n",
    "\n",
    "    print(\"Order Statistics: \")\n",
    "    print(\"Total Products Ordered:\",total_products)\n",
    "    print(\"Percentage of Products Ordered:\", percentage, \"%\")\n",
    "    \n",
    "    return order_status\n",
    "\n",
    "order_statistics = calculate_order_statistics(customer_orders, products)"
   ]
  },
  {
   "cell_type": "code",
   "execution_count": null,
   "id": "6f6b1196",
   "metadata": {},
   "outputs": [],
   "source": [
    "#Updated Inventory \n",
    "def update_inventory(customer_orders, inventory):\n",
    "    \n",
    "    for key, value in inventory.items():\n",
    "        if key in customer_orders:\n",
    "            inventory[key] -= 1\n",
    "\n",
    "    #remove_items = {key: new_inventory.pop(key) for key, value in new_inventory.items() if new_inventory[key] == 0 }\n",
    "\n",
    "    inventory = {key: value for key, value in inventory.items() if value > 0}\n",
    "    \n",
    "    return inventory\n",
    "\n",
    "\n",
    "inventory = update_inventory(customer_orders, inventory)\n",
    "update_inventory(customer_orders, inventory)"
   ]
  },
  {
   "cell_type": "code",
   "execution_count": null,
   "id": "6e8087ac",
   "metadata": {},
   "outputs": [],
   "source": [
    "#6 Print Inventory\n",
    "def print_updated_inventory(inventory):\n",
    "    for key, value in inventory.items():\n",
    "        print(key + \":\", value)\n",
    "print_updated_inventory(inventory)"
   ]
  },
  {
   "cell_type": "code",
   "execution_count": null,
   "id": "ec0f6e44",
   "metadata": {},
   "outputs": [],
   "source": [
    "#Get total price from user input\n",
    "\n",
    "def total_price(customer_orders):\n",
    "    price_list = []\n",
    "    customer_orders_list = list(customer_orders)\n",
    "    \n",
    "    #for i, item in enumerate(customer_orders):\n",
    "        #price = int(input(f\"Please enter price for {item}:\"))\n",
    "        #price_list.append(price)\n",
    "        \n",
    "    total_price = [(int(input(f\"Please enter price for {item}:\"))) for item in (customer_orders)]\n",
    "    total_sum = sum(total_price)\n",
    "    print(\"Total Price is:\", total_sum)\n",
    "    return total_price\n",
    "\n",
    "\n",
    "total_price = total_price(customer_orders)"
   ]
  }
 ],
 "metadata": {
  "kernelspec": {
   "display_name": "Python 3 (ipykernel)",
   "language": "python",
   "name": "python3"
  },
  "language_info": {
   "codemirror_mode": {
    "name": "ipython",
    "version": 3
   },
   "file_extension": ".py",
   "mimetype": "text/x-python",
   "name": "python",
   "nbconvert_exporter": "python",
   "pygments_lexer": "ipython3",
   "version": "3.1.-1"
  }
 },
 "nbformat": 4,
 "nbformat_minor": 5
}
